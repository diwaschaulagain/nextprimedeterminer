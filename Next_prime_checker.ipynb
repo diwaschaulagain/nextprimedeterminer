{
 "cells": [
  {
   "cell_type": "code",
   "execution_count": 1,
   "id": "3ce01a5e",
   "metadata": {},
   "outputs": [
    {
     "name": "stdout",
     "output_type": "stream",
     "text": [
      "next_prime([2, 3, 5, 7, 11, 13, 17, 19, 23, 29, 31, 37, 41, 43, 47, 53]) == 59\n"
     ]
    }
   ],
   "source": [
    "def primes(N):\n",
    "    prime_list = []\n",
    "    numbers = list(range(2, N))\n",
    "    while numbers:\n",
    "        p = numbers.pop(0)\n",
    "        prime_list.append(p)\n",
    "        for n in numbers:\n",
    "            if n % p == 0:\n",
    "                numbers.remove(n)\n",
    "    return prime_list\n",
    "\n",
    "def next_prime(prime_list):\n",
    "    if not prime_list:\n",
    "        return 2\n",
    "    N = prime_list[-1] + 1\n",
    "    while True:\n",
    "        is_prime = True\n",
    "        for divisor in prime_list:\n",
    "            if divisor * divisor > N:\n",
    "                break\n",
    "            if N % divisor == 0:\n",
    "                is_prime = False\n",
    "                break\n",
    "        if is_prime:\n",
    "            return N\n",
    "        N += 1\n",
    "\n",
    "\n",
    "prime_list = primes(57) #Replace 57 with your desired number\n",
    "next_prime_number = next_prime(prime_list)\n",
    "print(\"next_prime(\" + str(prime_list) + \") == \" + str(next_prime_number))\n"
   ]
  }
 ],
 "metadata": {
  "kernelspec": {
   "display_name": "Python 3 (ipykernel)",
   "language": "python",
   "name": "python3"
  },
  "language_info": {
   "codemirror_mode": {
    "name": "ipython",
    "version": 3
   },
   "file_extension": ".py",
   "mimetype": "text/x-python",
   "name": "python",
   "nbconvert_exporter": "python",
   "pygments_lexer": "ipython3",
   "version": "3.11.4"
  }
 },
 "nbformat": 4,
 "nbformat_minor": 5
}
